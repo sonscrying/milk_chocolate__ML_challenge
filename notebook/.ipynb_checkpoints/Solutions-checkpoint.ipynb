{
 "cells": [
  {
   "cell_type": "code",
   "execution_count": 1,
   "id": "happy-ghost",
   "metadata": {},
   "outputs": [],
   "source": [
    "import pandas as pd\n",
    "import numpy as np\n",
    "from sklearn.model_selection import train_test_split\n",
    "from sklearn.metrics import r2_score, precision_recall_fscore_support, accuracy_score, roc_auc_score"
   ]
  },
  {
   "cell_type": "code",
   "execution_count": 3,
   "id": "cloudy-bottle",
   "metadata": {},
   "outputs": [],
   "source": [
    "df = pd.read_csv(r\"../dataset/weather_train.csv\")"
   ]
  },
  {
   "cell_type": "code",
   "execution_count": 8,
   "id": "educational-quick",
   "metadata": {},
   "outputs": [
    {
     "data": {
      "text/plain": [
       "(130914, 24)"
      ]
     },
     "execution_count": 8,
     "metadata": {},
     "output_type": "execute_result"
    }
   ],
   "source": [
    "df.shape"
   ]
  },
  {
   "cell_type": "code",
   "execution_count": 4,
   "id": "weird-mixture",
   "metadata": {},
   "outputs": [
    {
     "data": {
      "text/html": [
       "<div>\n",
       "<style scoped>\n",
       "    .dataframe tbody tr th:only-of-type {\n",
       "        vertical-align: middle;\n",
       "    }\n",
       "\n",
       "    .dataframe tbody tr th {\n",
       "        vertical-align: top;\n",
       "    }\n",
       "\n",
       "    .dataframe thead th {\n",
       "        text-align: right;\n",
       "    }\n",
       "</style>\n",
       "<table border=\"1\" class=\"dataframe\">\n",
       "  <thead>\n",
       "    <tr style=\"text-align: right;\">\n",
       "      <th></th>\n",
       "      <th>Unnamed: 0</th>\n",
       "      <th>Date</th>\n",
       "      <th>Location</th>\n",
       "      <th>MinTemp</th>\n",
       "      <th>MaxTemp</th>\n",
       "      <th>Rainfall</th>\n",
       "      <th>Evaporation</th>\n",
       "      <th>Sunshine</th>\n",
       "      <th>WindGustDir</th>\n",
       "      <th>WindGustSpeed</th>\n",
       "      <th>...</th>\n",
       "      <th>Humidity9am</th>\n",
       "      <th>Humidity3pm</th>\n",
       "      <th>Pressure9am</th>\n",
       "      <th>Pressure3pm</th>\n",
       "      <th>Cloud9am</th>\n",
       "      <th>Cloud3pm</th>\n",
       "      <th>Temp9am</th>\n",
       "      <th>Temp3pm</th>\n",
       "      <th>RainToday</th>\n",
       "      <th>RainTomorrow</th>\n",
       "    </tr>\n",
       "  </thead>\n",
       "  <tbody>\n",
       "    <tr>\n",
       "      <th>0</th>\n",
       "      <td>110363</td>\n",
       "      <td>2014-01-25</td>\n",
       "      <td>Albany</td>\n",
       "      <td>18.4</td>\n",
       "      <td>26.8</td>\n",
       "      <td>0.2</td>\n",
       "      <td>4.8</td>\n",
       "      <td>8.5</td>\n",
       "      <td>NaN</td>\n",
       "      <td>NaN</td>\n",
       "      <td>...</td>\n",
       "      <td>59.0</td>\n",
       "      <td>72.0</td>\n",
       "      <td>1014.9</td>\n",
       "      <td>1009.2</td>\n",
       "      <td>0.0</td>\n",
       "      <td>3.0</td>\n",
       "      <td>24.0</td>\n",
       "      <td>23.8</td>\n",
       "      <td>No</td>\n",
       "      <td>No</td>\n",
       "    </tr>\n",
       "    <tr>\n",
       "      <th>1</th>\n",
       "      <td>22316</td>\n",
       "      <td>2012-05-12</td>\n",
       "      <td>NorfolkIsland</td>\n",
       "      <td>16.1</td>\n",
       "      <td>22.1</td>\n",
       "      <td>2.4</td>\n",
       "      <td>4.2</td>\n",
       "      <td>8.7</td>\n",
       "      <td>S</td>\n",
       "      <td>31.0</td>\n",
       "      <td>...</td>\n",
       "      <td>70.0</td>\n",
       "      <td>70.0</td>\n",
       "      <td>1020.2</td>\n",
       "      <td>1018.2</td>\n",
       "      <td>2.0</td>\n",
       "      <td>3.0</td>\n",
       "      <td>19.9</td>\n",
       "      <td>20.3</td>\n",
       "      <td>Yes</td>\n",
       "      <td>No</td>\n",
       "    </tr>\n",
       "    <tr>\n",
       "      <th>2</th>\n",
       "      <td>75456</td>\n",
       "      <td>2010-04-22</td>\n",
       "      <td>Portland</td>\n",
       "      <td>11.6</td>\n",
       "      <td>26.4</td>\n",
       "      <td>0.2</td>\n",
       "      <td>2.2</td>\n",
       "      <td>10.4</td>\n",
       "      <td>W</td>\n",
       "      <td>37.0</td>\n",
       "      <td>...</td>\n",
       "      <td>72.0</td>\n",
       "      <td>59.0</td>\n",
       "      <td>1018.4</td>\n",
       "      <td>1015.5</td>\n",
       "      <td>2.0</td>\n",
       "      <td>6.0</td>\n",
       "      <td>19.7</td>\n",
       "      <td>24.0</td>\n",
       "      <td>No</td>\n",
       "      <td>Yes</td>\n",
       "    </tr>\n",
       "    <tr>\n",
       "      <th>3</th>\n",
       "      <td>81222</td>\n",
       "      <td>2009-08-13</td>\n",
       "      <td>Dartmoor</td>\n",
       "      <td>6.8</td>\n",
       "      <td>16.5</td>\n",
       "      <td>0.8</td>\n",
       "      <td>1.4</td>\n",
       "      <td>6.7</td>\n",
       "      <td>NW</td>\n",
       "      <td>37.0</td>\n",
       "      <td>...</td>\n",
       "      <td>99.0</td>\n",
       "      <td>74.0</td>\n",
       "      <td>1015.0</td>\n",
       "      <td>1014.8</td>\n",
       "      <td>NaN</td>\n",
       "      <td>NaN</td>\n",
       "      <td>8.6</td>\n",
       "      <td>14.8</td>\n",
       "      <td>No</td>\n",
       "      <td>No</td>\n",
       "    </tr>\n",
       "    <tr>\n",
       "      <th>4</th>\n",
       "      <td>1753</td>\n",
       "      <td>2013-12-17</td>\n",
       "      <td>Albury</td>\n",
       "      <td>16.9</td>\n",
       "      <td>34.0</td>\n",
       "      <td>0.0</td>\n",
       "      <td>NaN</td>\n",
       "      <td>NaN</td>\n",
       "      <td>N</td>\n",
       "      <td>30.0</td>\n",
       "      <td>...</td>\n",
       "      <td>54.0</td>\n",
       "      <td>29.0</td>\n",
       "      <td>1019.5</td>\n",
       "      <td>1016.3</td>\n",
       "      <td>NaN</td>\n",
       "      <td>4.0</td>\n",
       "      <td>24.7</td>\n",
       "      <td>31.8</td>\n",
       "      <td>No</td>\n",
       "      <td>No</td>\n",
       "    </tr>\n",
       "  </tbody>\n",
       "</table>\n",
       "<p>5 rows × 24 columns</p>\n",
       "</div>"
      ],
      "text/plain": [
       "   Unnamed: 0        Date       Location  MinTemp  MaxTemp  Rainfall  \\\n",
       "0      110363  2014-01-25         Albany     18.4     26.8       0.2   \n",
       "1       22316  2012-05-12  NorfolkIsland     16.1     22.1       2.4   \n",
       "2       75456  2010-04-22       Portland     11.6     26.4       0.2   \n",
       "3       81222  2009-08-13       Dartmoor      6.8     16.5       0.8   \n",
       "4        1753  2013-12-17         Albury     16.9     34.0       0.0   \n",
       "\n",
       "   Evaporation  Sunshine WindGustDir  WindGustSpeed  ... Humidity9am  \\\n",
       "0          4.8       8.5         NaN            NaN  ...        59.0   \n",
       "1          4.2       8.7           S           31.0  ...        70.0   \n",
       "2          2.2      10.4           W           37.0  ...        72.0   \n",
       "3          1.4       6.7          NW           37.0  ...        99.0   \n",
       "4          NaN       NaN           N           30.0  ...        54.0   \n",
       "\n",
       "  Humidity3pm  Pressure9am  Pressure3pm  Cloud9am  Cloud3pm  Temp9am  Temp3pm  \\\n",
       "0        72.0       1014.9       1009.2       0.0       3.0     24.0     23.8   \n",
       "1        70.0       1020.2       1018.2       2.0       3.0     19.9     20.3   \n",
       "2        59.0       1018.4       1015.5       2.0       6.0     19.7     24.0   \n",
       "3        74.0       1015.0       1014.8       NaN       NaN      8.6     14.8   \n",
       "4        29.0       1019.5       1016.3       NaN       4.0     24.7     31.8   \n",
       "\n",
       "   RainToday  RainTomorrow  \n",
       "0         No            No  \n",
       "1        Yes            No  \n",
       "2         No           Yes  \n",
       "3         No            No  \n",
       "4         No            No  \n",
       "\n",
       "[5 rows x 24 columns]"
      ]
     },
     "execution_count": 4,
     "metadata": {},
     "output_type": "execute_result"
    }
   ],
   "source": [
    "df.head()"
   ]
  },
  {
   "cell_type": "code",
   "execution_count": 5,
   "id": "prescribed-server",
   "metadata": {},
   "outputs": [
    {
     "data": {
      "text/plain": [
       "Index(['Unnamed: 0', 'Date', 'Location', 'MinTemp', 'MaxTemp', 'Rainfall',\n",
       "       'Evaporation', 'Sunshine', 'WindGustDir', 'WindGustSpeed', 'WindDir9am',\n",
       "       'WindDir3pm', 'WindSpeed9am', 'WindSpeed3pm', 'Humidity9am',\n",
       "       'Humidity3pm', 'Pressure9am', 'Pressure3pm', 'Cloud9am', 'Cloud3pm',\n",
       "       'Temp9am', 'Temp3pm', 'RainToday', 'RainTomorrow'],\n",
       "      dtype='object')"
      ]
     },
     "execution_count": 5,
     "metadata": {},
     "output_type": "execute_result"
    }
   ],
   "source": [
    "df.columns"
   ]
  },
  {
   "cell_type": "code",
   "execution_count": 6,
   "id": "statewide-utilization",
   "metadata": {},
   "outputs": [
    {
     "data": {
      "text/plain": [
       "Unnamed: 0           0\n",
       "Date                 0\n",
       "Location             0\n",
       "MinTemp           1348\n",
       "MaxTemp           1139\n",
       "Rainfall          2938\n",
       "Evaporation      56448\n",
       "Sunshine         62830\n",
       "WindGustDir       9289\n",
       "WindGustSpeed     9232\n",
       "WindDir9am        9479\n",
       "WindDir3pm        3773\n",
       "WindSpeed9am      1592\n",
       "WindSpeed3pm      2727\n",
       "Humidity9am       2396\n",
       "Humidity3pm       4026\n",
       "Pressure9am      13563\n",
       "Pressure3pm      13523\n",
       "Cloud9am         50241\n",
       "Cloud3pm         53349\n",
       "Temp9am           1599\n",
       "Temp3pm           3226\n",
       "RainToday         2938\n",
       "RainTomorrow      2939\n",
       "dtype: int64"
      ]
     },
     "execution_count": 6,
     "metadata": {},
     "output_type": "execute_result"
    }
   ],
   "source": [
    "df.isna().sum()"
   ]
  },
  {
   "cell_type": "markdown",
   "id": "stuffed-plastic",
   "metadata": {},
   "source": [
    "# Pre-processing"
   ]
  },
  {
   "cell_type": "markdown",
   "id": "distant-genetics",
   "metadata": {},
   "source": [
    "## Remove NA"
   ]
  },
  {
   "cell_type": "code",
   "execution_count": null,
   "id": "lesser-brush",
   "metadata": {},
   "outputs": [],
   "source": []
  },
  {
   "cell_type": "markdown",
   "id": "emotional-semester",
   "metadata": {},
   "source": [
    "## Min Max Normalisation"
   ]
  },
  {
   "cell_type": "code",
   "execution_count": null,
   "id": "terminal-interim",
   "metadata": {},
   "outputs": [],
   "source": []
  },
  {
   "cell_type": "markdown",
   "id": "aging-action",
   "metadata": {},
   "source": [
    "# Train Test Split"
   ]
  },
  {
   "cell_type": "code",
   "execution_count": null,
   "id": "skilled-friendship",
   "metadata": {},
   "outputs": [],
   "source": []
  },
  {
   "cell_type": "markdown",
   "id": "grave-birmingham",
   "metadata": {},
   "source": [
    "# Model Fitting and Prediction"
   ]
  },
  {
   "cell_type": "code",
   "execution_count": null,
   "id": "atlantic-generic",
   "metadata": {},
   "outputs": [],
   "source": []
  },
  {
   "cell_type": "markdown",
   "id": "recovered-operator",
   "metadata": {},
   "source": [
    "# Evaluation"
   ]
  },
  {
   "cell_type": "code",
   "execution_count": null,
   "id": "studied-evolution",
   "metadata": {},
   "outputs": [],
   "source": []
  }
 ],
 "metadata": {
  "kernelspec": {
   "display_name": "Python 3",
   "language": "python",
   "name": "python3"
  },
  "language_info": {
   "codemirror_mode": {
    "name": "ipython",
    "version": 3
   },
   "file_extension": ".py",
   "mimetype": "text/x-python",
   "name": "python",
   "nbconvert_exporter": "python",
   "pygments_lexer": "ipython3",
   "version": "3.8.8"
  },
  "toc": {
   "base_numbering": 1,
   "nav_menu": {},
   "number_sections": true,
   "sideBar": true,
   "skip_h1_title": false,
   "title_cell": "Table of Contents",
   "title_sidebar": "Contents",
   "toc_cell": false,
   "toc_position": {
    "height": "calc(100% - 180px)",
    "left": "10px",
    "top": "150px",
    "width": "200.875px"
   },
   "toc_section_display": true,
   "toc_window_display": true
  }
 },
 "nbformat": 4,
 "nbformat_minor": 5
}
